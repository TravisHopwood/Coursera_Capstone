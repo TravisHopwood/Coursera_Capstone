{
 "cells": [
  {
   "cell_type": "markdown",
   "metadata": {
    "button": false,
    "deletable": true,
    "new_sheet": false,
    "run_control": {
     "read_only": false
    }
   },
   "source": [
    "<a href=\"https://cognitiveclass.ai\"><img src = \"https://ibm.box.com/shared/static/9gegpsmnsoo25ikkbl4qzlvlyjbgxs5x.png\" width = 400> </a>\n",
    "\n",
    "<h1 align=center><font size = 5>Learning FourSquare API with Python</font></h1>"
   ]
  },
  {
   "cell_type": "markdown",
   "metadata": {
    "button": false,
    "deletable": true,
    "new_sheet": false,
    "run_control": {
     "read_only": false
    }
   },
   "source": [
    "   "
   ]
  },
  {
   "cell_type": "markdown",
   "metadata": {
    "button": false,
    "deletable": true,
    "new_sheet": false,
    "run_control": {
     "read_only": false
    }
   },
   "source": [
    "### Import necessary Libraries"
   ]
  },
  {
   "cell_type": "code",
   "execution_count": 154,
   "metadata": {},
   "outputs": [],
   "source": [
    "import requests # library to handle requests\n",
    "import pandas as pd # library for data analsysis\n",
    "import numpy as np # library to handle data in a vectorized manner\n",
    "import random # library for random number generation\n",
    "from pandas.io.json import json_normalize\n",
    "# import k-means from clustering stage\n",
    "from sklearn.cluster import KMeans\n",
    "import folium # map rendering library"
   ]
  },
  {
   "cell_type": "markdown",
   "metadata": {
    "button": false,
    "deletable": true,
    "jupyter": {
     "outputs_hidden": false
    },
    "new_sheet": false,
    "run_control": {
     "read_only": false
    }
   },
   "source": [
    "### Foursquare Set-up"
   ]
  },
  {
   "cell_type": "code",
   "execution_count": 155,
   "metadata": {
    "button": false,
    "collapsed": false,
    "deletable": true,
    "jupyter": {
     "outputs_hidden": false
    },
    "new_sheet": false,
    "run_control": {
     "read_only": false
    },
    "scrolled": true
   },
   "outputs": [
    {
     "name": "stdout",
     "output_type": "stream",
     "text": [
      "Your credentails:\n",
      "CLIENT_ID: CSWXP0BZFGWEJ1HTJAYRJ1IEW1T11E3PRR4BJBUDCGYZOH35\n",
      "CLIENT_SECRET:BQ4HGWGQHUOCET3JUMMNTTJ5RVUJY5DW1EAQRYYLIV35CBY2\n",
      "Your Location:\n",
      "LATITUDE -  41.6611\n",
      "LONGITUDE -  -91.5302\n"
     ]
    }
   ],
   "source": [
    "CLIENT_ID = 'CSWXP0BZFGWEJ1HTJAYRJ1IEW1T11E3PRR4BJBUDCGYZOH35' # your Foursquare ID\n",
    "CLIENT_SECRET = 'BQ4HGWGQHUOCET3JUMMNTTJ5RVUJY5DW1EAQRYYLIV35CBY2' # your Foursquare Secret\n",
    "VERSION = '20191016'\n",
    "radius = 10000\n",
    "ICLatitude = 41.6611\n",
    "ICLongitude = -91.5302\n",
    "\n",
    "print('Your credentails:')\n",
    "print('CLIENT_ID: ' + CLIENT_ID)\n",
    "print('CLIENT_SECRET:' + CLIENT_SECRET)\n",
    "print('Your Location:')\n",
    "print ('LATITUDE - ', ICLatitude)\n",
    "print ('LONGITUDE - ', ICLongitude)"
   ]
  },
  {
   "cell_type": "markdown",
   "metadata": {
    "button": false,
    "deletable": true,
    "new_sheet": false,
    "run_control": {
     "read_only": false
    }
   },
   "source": [
    "#### Define the corresponding URLs for CoffeeShops and Yoga Studio"
   ]
  },
  {
   "cell_type": "code",
   "execution_count": 156,
   "metadata": {
    "button": false,
    "collapsed": false,
    "deletable": true,
    "jupyter": {
     "outputs_hidden": false
    },
    "new_sheet": false,
    "run_control": {
     "read_only": false
    }
   },
   "outputs": [
    {
     "data": {
      "text/plain": [
       "'https://api.foursquare.com/v2/venues/search?client_id=CSWXP0BZFGWEJ1HTJAYRJ1IEW1T11E3PRR4BJBUDCGYZOH35&client_secret=BQ4HGWGQHUOCET3JUMMNTTJ5RVUJY5DW1EAQRYYLIV35CBY2&ll=41.6611,-91.5302&v=20191016&categoryId=4bf58dd8d48988d1e0931735&radius=10000'"
      ]
     },
     "execution_count": 156,
     "metadata": {},
     "output_type": "execute_result"
    }
   ],
   "source": [
    "CoffeeShopsCategoryId = '4bf58dd8d48988d1e0931735'\n",
    "CoffeeShopUrl = 'https://api.foursquare.com/v2/venues/search?client_id={}&client_secret={}&ll={},{}&v={}&categoryId={}&radius={}'.format(CLIENT_ID, CLIENT_SECRET, ICLatitude, ICLongitude, VERSION, CoffeeShopsCategoryId, radius)\n",
    "CoffeeShopUrl"
   ]
  },
  {
   "cell_type": "code",
   "execution_count": 157,
   "metadata": {},
   "outputs": [
    {
     "data": {
      "text/plain": [
       "'https://api.foursquare.com/v2/venues/search?client_id=CSWXP0BZFGWEJ1HTJAYRJ1IEW1T11E3PRR4BJBUDCGYZOH35&client_secret=BQ4HGWGQHUOCET3JUMMNTTJ5RVUJY5DW1EAQRYYLIV35CBY2&ll=41.6611,-91.5302&v=20191016&categoryId=4bf58dd8d48988d102941735&radius=10000'"
      ]
     },
     "execution_count": 157,
     "metadata": {},
     "output_type": "execute_result"
    }
   ],
   "source": [
    "GymCategoryId = '4bf58dd8d48988d102941735'\n",
    "GymUrl = 'https://api.foursquare.com/v2/venues/search?client_id={}&client_secret={}&ll={},{}&v={}&categoryId={}&radius={}'.format(CLIENT_ID, CLIENT_SECRET, ICLatitude, ICLongitude, VERSION, GymCategoryId, radius)\n",
    "GymUrl"
   ]
  },
  {
   "cell_type": "markdown",
   "metadata": {},
   "source": [
    "### Create functions used to extract Foursquare results into a Pandas Dataframe"
   ]
  },
  {
   "cell_type": "code",
   "execution_count": 158,
   "metadata": {},
   "outputs": [
    {
     "name": "stdout",
     "output_type": "stream",
     "text": [
      "get_category_type created...\n",
      "get_venue_DF created...\n"
     ]
    }
   ],
   "source": [
    "def get_category_type(row):\n",
    "    try:\n",
    "        categories_list = row['categories']\n",
    "    except:\n",
    "        categories_list = row['venue.categories']\n",
    "        \n",
    "    if len(categories_list) == 0:\n",
    "        return None\n",
    "    else:\n",
    "        return categories_list[0]['name']\n",
    "\n",
    "print (\"get_category_type created...\")\n",
    "\n",
    "def getVenueDF(url):\n",
    "    results = requests.get(url).json()\n",
    "    venues = results['response']['venues']\n",
    "    dataframe = json_normalize(venues)\n",
    "    filtered_columns = ['name', 'categories'] + [col for col in dataframe.columns if col.startswith('location.')] + ['id']\n",
    "    dataframe_filtered = dataframe.loc[:, filtered_columns]\n",
    "    dataframe_filtered['categories'] = dataframe_filtered.apply(get_category_type, axis=1)\n",
    "    dataframe_filtered.columns = [column.split('.')[-1] for column in dataframe_filtered.columns]\n",
    "    return dataframe_filtered\n",
    "\n",
    "print (\"get_venue_DF created...\")"
   ]
  },
  {
   "cell_type": "code",
   "execution_count": 159,
   "metadata": {},
   "outputs": [
    {
     "name": "stdout",
     "output_type": "stream",
     "text": [
      "(8, 15)\n",
      "(30, 15)\n"
     ]
    },
    {
     "data": {
      "text/html": [
       "<div>\n",
       "<style scoped>\n",
       "    .dataframe tbody tr th:only-of-type {\n",
       "        vertical-align: middle;\n",
       "    }\n",
       "\n",
       "    .dataframe tbody tr th {\n",
       "        vertical-align: top;\n",
       "    }\n",
       "\n",
       "    .dataframe thead th {\n",
       "        text-align: right;\n",
       "    }\n",
       "</style>\n",
       "<table border=\"1\" class=\"dataframe\">\n",
       "  <thead>\n",
       "    <tr style=\"text-align: right;\">\n",
       "      <th></th>\n",
       "      <th>name</th>\n",
       "      <th>categories</th>\n",
       "      <th>address</th>\n",
       "      <th>lat</th>\n",
       "      <th>lng</th>\n",
       "      <th>labeledLatLngs</th>\n",
       "      <th>distance</th>\n",
       "      <th>postalCode</th>\n",
       "      <th>cc</th>\n",
       "      <th>city</th>\n",
       "      <th>state</th>\n",
       "      <th>country</th>\n",
       "      <th>formattedAddress</th>\n",
       "      <th>crossStreet</th>\n",
       "      <th>id</th>\n",
       "    </tr>\n",
       "  </thead>\n",
       "  <tbody>\n",
       "    <tr>\n",
       "      <td>0</td>\n",
       "      <td>Bruegger's Bagels</td>\n",
       "      <td>Bagel Shop</td>\n",
       "      <td>245 Iowa Ave</td>\n",
       "      <td>41.661014</td>\n",
       "      <td>-91.532027</td>\n",
       "      <td>[{'label': 'display', 'lat': 41.66101403812128...</td>\n",
       "      <td>152</td>\n",
       "      <td>52240</td>\n",
       "      <td>US</td>\n",
       "      <td>Iowa City</td>\n",
       "      <td>IA</td>\n",
       "      <td>United States</td>\n",
       "      <td>[245 Iowa Ave, Iowa City, IA 52240, United Sta...</td>\n",
       "      <td>NaN</td>\n",
       "      <td>525d64a511d2cdeeb7e5b1d8</td>\n",
       "    </tr>\n",
       "    <tr>\n",
       "      <td>1</td>\n",
       "      <td>The Java House</td>\n",
       "      <td>Coffee Shop</td>\n",
       "      <td>211 1/2 E Washington St</td>\n",
       "      <td>41.659944</td>\n",
       "      <td>-91.532536</td>\n",
       "      <td>[{'label': 'display', 'lat': 41.65994360731062...</td>\n",
       "      <td>233</td>\n",
       "      <td>52240</td>\n",
       "      <td>US</td>\n",
       "      <td>Iowa City</td>\n",
       "      <td>IA</td>\n",
       "      <td>United States</td>\n",
       "      <td>[211 1/2 E Washington St (btw Dubuque St and L...</td>\n",
       "      <td>btw Dubuque St and Linn St</td>\n",
       "      <td>4b4cd4c4f964a520aec026e3</td>\n",
       "    </tr>\n",
       "    <tr>\n",
       "      <td>2</td>\n",
       "      <td>Caribou Coffee</td>\n",
       "      <td>Coffee Shop</td>\n",
       "      <td>245 Iowa Ave</td>\n",
       "      <td>41.661020</td>\n",
       "      <td>-91.532032</td>\n",
       "      <td>[{'label': 'display', 'lat': 41.66102004968086...</td>\n",
       "      <td>152</td>\n",
       "      <td>52240</td>\n",
       "      <td>US</td>\n",
       "      <td>Iowa City</td>\n",
       "      <td>IA</td>\n",
       "      <td>United States</td>\n",
       "      <td>[245 Iowa Ave, Iowa City, IA 52240, United Sta...</td>\n",
       "      <td>NaN</td>\n",
       "      <td>56fc566a498ef280f4025380</td>\n",
       "    </tr>\n",
       "    <tr>\n",
       "      <td>3</td>\n",
       "      <td>Starbucks</td>\n",
       "      <td>Coffee Shop</td>\n",
       "      <td>228 S. Clinton Street</td>\n",
       "      <td>41.658270</td>\n",
       "      <td>-91.534390</td>\n",
       "      <td>[{'label': 'display', 'lat': 41.65827, 'lng': ...</td>\n",
       "      <td>469</td>\n",
       "      <td>52240</td>\n",
       "      <td>US</td>\n",
       "      <td>Iowa City</td>\n",
       "      <td>IA</td>\n",
       "      <td>United States</td>\n",
       "      <td>[228 S. Clinton Street, Iowa City, IA 52240, U...</td>\n",
       "      <td>NaN</td>\n",
       "      <td>4b4f6639f964a520dc0427e3</td>\n",
       "    </tr>\n",
       "    <tr>\n",
       "      <td>4</td>\n",
       "      <td>High Ground Cafe</td>\n",
       "      <td>Coffee Shop</td>\n",
       "      <td>301 E Market St</td>\n",
       "      <td>41.663444</td>\n",
       "      <td>-91.531418</td>\n",
       "      <td>[{'label': 'display', 'lat': 41.66344354179694...</td>\n",
       "      <td>279</td>\n",
       "      <td>52245</td>\n",
       "      <td>US</td>\n",
       "      <td>Iowa City</td>\n",
       "      <td>IA</td>\n",
       "      <td>United States</td>\n",
       "      <td>[301 E Market St, Iowa City, IA 52245, United ...</td>\n",
       "      <td>NaN</td>\n",
       "      <td>51bce8de498ea91cb0c73c0b</td>\n",
       "    </tr>\n",
       "  </tbody>\n",
       "</table>\n",
       "</div>"
      ],
      "text/plain": [
       "                name   categories                  address        lat  \\\n",
       "0  Bruegger's Bagels   Bagel Shop             245 Iowa Ave  41.661014   \n",
       "1     The Java House  Coffee Shop  211 1/2 E Washington St  41.659944   \n",
       "2     Caribou Coffee  Coffee Shop             245 Iowa Ave  41.661020   \n",
       "3          Starbucks  Coffee Shop    228 S. Clinton Street  41.658270   \n",
       "4   High Ground Cafe  Coffee Shop          301 E Market St  41.663444   \n",
       "\n",
       "         lng                                     labeledLatLngs  distance  \\\n",
       "0 -91.532027  [{'label': 'display', 'lat': 41.66101403812128...       152   \n",
       "1 -91.532536  [{'label': 'display', 'lat': 41.65994360731062...       233   \n",
       "2 -91.532032  [{'label': 'display', 'lat': 41.66102004968086...       152   \n",
       "3 -91.534390  [{'label': 'display', 'lat': 41.65827, 'lng': ...       469   \n",
       "4 -91.531418  [{'label': 'display', 'lat': 41.66344354179694...       279   \n",
       "\n",
       "  postalCode  cc       city state        country  \\\n",
       "0      52240  US  Iowa City    IA  United States   \n",
       "1      52240  US  Iowa City    IA  United States   \n",
       "2      52240  US  Iowa City    IA  United States   \n",
       "3      52240  US  Iowa City    IA  United States   \n",
       "4      52245  US  Iowa City    IA  United States   \n",
       "\n",
       "                                    formattedAddress  \\\n",
       "0  [245 Iowa Ave, Iowa City, IA 52240, United Sta...   \n",
       "1  [211 1/2 E Washington St (btw Dubuque St and L...   \n",
       "2  [245 Iowa Ave, Iowa City, IA 52240, United Sta...   \n",
       "3  [228 S. Clinton Street, Iowa City, IA 52240, U...   \n",
       "4  [301 E Market St, Iowa City, IA 52245, United ...   \n",
       "\n",
       "                  crossStreet                        id  \n",
       "0                         NaN  525d64a511d2cdeeb7e5b1d8  \n",
       "1  btw Dubuque St and Linn St  4b4cd4c4f964a520aec026e3  \n",
       "2                         NaN  56fc566a498ef280f4025380  \n",
       "3                         NaN  4b4f6639f964a520dc0427e3  \n",
       "4                         NaN  51bce8de498ea91cb0c73c0b  "
      ]
     },
     "execution_count": 159,
     "metadata": {},
     "output_type": "execute_result"
    }
   ],
   "source": [
    "GymDF = getVenueDF(GymUrl)\n",
    "print(GymDF.shape)\n",
    "GymDF.head()\n",
    "CoffeeShopDF = getVenueDF(CoffeeShopUrl)\n",
    "print(CoffeeShopDF.shape)\n",
    "CoffeeShopDF.head()"
   ]
  },
  {
   "cell_type": "markdown",
   "metadata": {},
   "source": [
    "### Map out Iowa City with Coffee Shops and Yoga Studios"
   ]
  },
  {
   "cell_type": "code",
   "execution_count": 160,
   "metadata": {},
   "outputs": [
    {
     "data": {
      "text/html": [
       "<div style=\"width:100%;\"><div style=\"position:relative;width:100%;height:0;padding-bottom:60%;\"><iframe src=\"data:text/html;charset=utf-8;base64,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\" style=\"position:absolute;width:100%;height:100%;left:0;top:0;border:none !important;\" allowfullscreen webkitallowfullscreen mozallowfullscreen></iframe></div></div>"
      ],
      "text/plain": [
       "<folium.folium.Map at 0x7f0a52d06780>"
      ]
     },
     "execution_count": 160,
     "metadata": {},
     "output_type": "execute_result"
    }
   ],
   "source": [
    "map_IowaCity = folium.Map(location=[ICLatitude, ICLongitude], zoom_start=13)\n",
    "for lat, lng, label in zip(CoffeeShopDF['lat'], CoffeeShopDF['lng'], CoffeeShopDF['name']):\n",
    "    label = folium.Popup(label, parse_html=True)\n",
    "    folium.CircleMarker(\n",
    "        [lat, lng],\n",
    "        radius=5,\n",
    "        popup=label,\n",
    "        color='blue',\n",
    "        fill=True,\n",
    "        fill_color='#3186cc',\n",
    "        fill_opacity=0.7,\n",
    "        parse_html=False).add_to(map_IowaCity)  \n",
    "for lat, lng, label in zip(GymDF['lat'], GymDF['lng'], GymDF['name']):\n",
    "    label = folium.Popup(label, parse_html=True)\n",
    "    folium.CircleMarker(\n",
    "        [lat, lng],\n",
    "        radius=5,\n",
    "        popup=label,\n",
    "        color='red',\n",
    "        fill=True,\n",
    "        fill_color='#ff6666',\n",
    "        fill_opacity=0.7,\n",
    "        parse_html=False).add_to(map_IowaCity)      \n",
    "map_IowaCity"
   ]
  },
  {
   "cell_type": "markdown",
   "metadata": {},
   "source": [
    "### Base on Proximity of Coffee Shops and Yoga Studios, I've identified three studios near Coffee Shops that can would be ideal for a pop-up shop.\n",
    "#### These are mapped out below in green."
   ]
  },
  {
   "cell_type": "code",
   "execution_count": 161,
   "metadata": {},
   "outputs": [
    {
     "data": {
      "text/html": [
       "<div>\n",
       "<style scoped>\n",
       "    .dataframe tbody tr th:only-of-type {\n",
       "        vertical-align: middle;\n",
       "    }\n",
       "\n",
       "    .dataframe tbody tr th {\n",
       "        vertical-align: top;\n",
       "    }\n",
       "\n",
       "    .dataframe thead th {\n",
       "        text-align: right;\n",
       "    }\n",
       "</style>\n",
       "<table border=\"1\" class=\"dataframe\">\n",
       "  <thead>\n",
       "    <tr style=\"text-align: right;\">\n",
       "      <th></th>\n",
       "      <th>name</th>\n",
       "      <th>categories</th>\n",
       "      <th>address</th>\n",
       "      <th>crossStreet</th>\n",
       "      <th>lat</th>\n",
       "      <th>lng</th>\n",
       "      <th>labeledLatLngs</th>\n",
       "      <th>distance</th>\n",
       "      <th>postalCode</th>\n",
       "      <th>cc</th>\n",
       "      <th>city</th>\n",
       "      <th>state</th>\n",
       "      <th>country</th>\n",
       "      <th>formattedAddress</th>\n",
       "      <th>id</th>\n",
       "    </tr>\n",
       "  </thead>\n",
       "  <tbody>\n",
       "    <tr>\n",
       "      <td>0</td>\n",
       "      <td>Hothouse Yoga</td>\n",
       "      <td>Yoga Studio</td>\n",
       "      <td>224 S Clinton St</td>\n",
       "      <td>Burlington St</td>\n",
       "      <td>41.658128</td>\n",
       "      <td>-91.534430</td>\n",
       "      <td>[{'label': 'display', 'lat': 41.65812797900649...</td>\n",
       "      <td>482</td>\n",
       "      <td>52240</td>\n",
       "      <td>US</td>\n",
       "      <td>Iowa City</td>\n",
       "      <td>IA</td>\n",
       "      <td>United States</td>\n",
       "      <td>[224 S Clinton St (Burlington St), Iowa City, ...</td>\n",
       "      <td>4bddab91587b2d7fd3975409</td>\n",
       "    </tr>\n",
       "    <tr>\n",
       "      <td>3</td>\n",
       "      <td>Hothouse Yoga</td>\n",
       "      <td>Yoga Studio</td>\n",
       "      <td>NaN</td>\n",
       "      <td>NaN</td>\n",
       "      <td>41.675907</td>\n",
       "      <td>-91.582533</td>\n",
       "      <td>[{'label': 'display', 'lat': 41.67590734492047...</td>\n",
       "      <td>4653</td>\n",
       "      <td>NaN</td>\n",
       "      <td>US</td>\n",
       "      <td>Coralville</td>\n",
       "      <td>IA</td>\n",
       "      <td>United States</td>\n",
       "      <td>[Coralville, IA, United States]</td>\n",
       "      <td>4cd7eb4d7bb06dcb84699fb2</td>\n",
       "    </tr>\n",
       "    <tr>\n",
       "      <td>4</td>\n",
       "      <td>Zenergi Hot Yoga</td>\n",
       "      <td>Gym</td>\n",
       "      <td>1705 S 1st Ave</td>\n",
       "      <td>NaN</td>\n",
       "      <td>41.642860</td>\n",
       "      <td>-91.504824</td>\n",
       "      <td>[{'label': 'display', 'lat': 41.64286043188304...</td>\n",
       "      <td>2928</td>\n",
       "      <td>52240</td>\n",
       "      <td>US</td>\n",
       "      <td>Iowa City</td>\n",
       "      <td>IA</td>\n",
       "      <td>United States</td>\n",
       "      <td>[1705 S 1st Ave, Iowa City, IA 52240, United S...</td>\n",
       "      <td>4b47d3e8f964a5208b4026e3</td>\n",
       "    </tr>\n",
       "  </tbody>\n",
       "</table>\n",
       "</div>"
      ],
      "text/plain": [
       "               name   categories           address    crossStreet        lat  \\\n",
       "0     Hothouse Yoga  Yoga Studio  224 S Clinton St  Burlington St  41.658128   \n",
       "3     Hothouse Yoga  Yoga Studio               NaN            NaN  41.675907   \n",
       "4  Zenergi Hot Yoga          Gym    1705 S 1st Ave            NaN  41.642860   \n",
       "\n",
       "         lng                                     labeledLatLngs  distance  \\\n",
       "0 -91.534430  [{'label': 'display', 'lat': 41.65812797900649...       482   \n",
       "3 -91.582533  [{'label': 'display', 'lat': 41.67590734492047...      4653   \n",
       "4 -91.504824  [{'label': 'display', 'lat': 41.64286043188304...      2928   \n",
       "\n",
       "  postalCode  cc        city state        country  \\\n",
       "0      52240  US   Iowa City    IA  United States   \n",
       "3        NaN  US  Coralville    IA  United States   \n",
       "4      52240  US   Iowa City    IA  United States   \n",
       "\n",
       "                                    formattedAddress                        id  \n",
       "0  [224 S Clinton St (Burlington St), Iowa City, ...  4bddab91587b2d7fd3975409  \n",
       "3                    [Coralville, IA, United States]  4cd7eb4d7bb06dcb84699fb2  \n",
       "4  [1705 S 1st Ave, Iowa City, IA 52240, United S...  4b47d3e8f964a5208b4026e3  "
      ]
     },
     "execution_count": 161,
     "metadata": {},
     "output_type": "execute_result"
    }
   ],
   "source": [
    "GymDF[(GymDF['name']=='Hothouse Yoga') | (GymDF['name']=='Zenergi Hot Yoga')]"
   ]
  },
  {
   "cell_type": "code",
   "execution_count": 162,
   "metadata": {},
   "outputs": [
    {
     "data": {
      "text/html": [
       "<div>\n",
       "<style scoped>\n",
       "    .dataframe tbody tr th:only-of-type {\n",
       "        vertical-align: middle;\n",
       "    }\n",
       "\n",
       "    .dataframe tbody tr th {\n",
       "        vertical-align: top;\n",
       "    }\n",
       "\n",
       "    .dataframe thead th {\n",
       "        text-align: right;\n",
       "    }\n",
       "</style>\n",
       "<table border=\"1\" class=\"dataframe\">\n",
       "  <thead>\n",
       "    <tr style=\"text-align: right;\">\n",
       "      <th></th>\n",
       "      <th>name</th>\n",
       "      <th>lat</th>\n",
       "      <th>lng</th>\n",
       "    </tr>\n",
       "  </thead>\n",
       "  <tbody>\n",
       "    <tr>\n",
       "      <td>0</td>\n",
       "      <td>Ideal Location</td>\n",
       "      <td>41.658128</td>\n",
       "      <td>-91.534430</td>\n",
       "    </tr>\n",
       "    <tr>\n",
       "      <td>3</td>\n",
       "      <td>Ideal Location</td>\n",
       "      <td>41.675907</td>\n",
       "      <td>-91.582533</td>\n",
       "    </tr>\n",
       "    <tr>\n",
       "      <td>4</td>\n",
       "      <td>Ideal Location</td>\n",
       "      <td>41.642860</td>\n",
       "      <td>-91.504824</td>\n",
       "    </tr>\n",
       "  </tbody>\n",
       "</table>\n",
       "</div>"
      ],
      "text/plain": [
       "             name        lat        lng\n",
       "0  Ideal Location  41.658128 -91.534430\n",
       "3  Ideal Location  41.675907 -91.582533\n",
       "4  Ideal Location  41.642860 -91.504824"
      ]
     },
     "execution_count": 162,
     "metadata": {},
     "output_type": "execute_result"
    }
   ],
   "source": [
    "IdealLocations = GymDF[(GymDF['name']=='Hothouse Yoga') | (GymDF['name']=='Zenergi Hot Yoga')][['name','lat','lng']]\n",
    "IdealLocations['name'] = 'Ideal Location'\n",
    "IdealLocations.head()"
   ]
  },
  {
   "cell_type": "code",
   "execution_count": 163,
   "metadata": {},
   "outputs": [
    {
     "name": "stdout",
     "output_type": "stream",
     "text": [
      "41.658127979006494 -91.53442985363114 Ideal Location\n",
      "41.67590734492047 -91.58253322229731 Ideal Location\n",
      "41.64286043188304 -91.50482430313113 Ideal Location\n"
     ]
    },
    {
     "data": {
      "text/html": [
       "<div style=\"width:100%;\"><div style=\"position:relative;width:100%;height:0;padding-bottom:60%;\"><iframe src=\"data:text/html;charset=utf-8;base64,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\" style=\"position:absolute;width:100%;height:100%;left:0;top:0;border:none !important;\" allowfullscreen webkitallowfullscreen mozallowfullscreen></iframe></div></div>"
      ],
      "text/plain": [
       "<folium.folium.Map at 0x7f0a52d06780>"
      ]
     },
     "execution_count": 163,
     "metadata": {},
     "output_type": "execute_result"
    }
   ],
   "source": [
    "for lat, lng, label in zip(IdealLocations['lat'], IdealLocations['lng'], IdealLocations['name']):\n",
    "    print(lat,lng,label)\n",
    "    label = folium.Popup(label, parse_html=True)\n",
    "    folium.CircleMarker(\n",
    "        [lat, lng],\n",
    "        radius=25,\n",
    "        popup=label,\n",
    "        fill=True,\n",
    "        fill_color='#ccff66',\n",
    "        fill_opacity=0.3,\n",
    "        parse_html=False).add_to(map_IowaCity)  \n",
    "    \n",
    "map_IowaCity"
   ]
  },
  {
   "cell_type": "code",
   "execution_count": null,
   "metadata": {},
   "outputs": [],
   "source": []
  }
 ],
 "metadata": {
  "kernelspec": {
   "display_name": "Python",
   "language": "python",
   "name": "conda-env-python-py"
  },
  "language_info": {
   "codemirror_mode": {
    "name": "ipython",
    "version": 3
   },
   "file_extension": ".py",
   "mimetype": "text/x-python",
   "name": "python",
   "nbconvert_exporter": "python",
   "pygments_lexer": "ipython3",
   "version": "3.6.7"
  },
  "widgets": {
   "state": {},
   "version": "1.1.2"
  }
 },
 "nbformat": 4,
 "nbformat_minor": 4
}
